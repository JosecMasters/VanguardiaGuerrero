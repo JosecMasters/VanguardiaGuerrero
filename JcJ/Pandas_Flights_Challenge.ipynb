{
 "cells": [
  {
   "cell_type": "markdown",
   "metadata": {},
   "source": [
    "# Flights Data Exploration Challenge\n",
    "\n",
    "In this challenge, you'll explore a real-world dataset containing flights data from the US Department of Transportation.\n",
    "\n",
    "Let's start by loading and viewing the data."
   ]
  },
  {
   "cell_type": "code",
   "execution_count": 2,
   "metadata": {},
   "outputs": [
    {
     "data": {
      "text/html": [
       "<div>\n",
       "<style scoped>\n",
       "    .dataframe tbody tr th:only-of-type {\n",
       "        vertical-align: middle;\n",
       "    }\n",
       "\n",
       "    .dataframe tbody tr th {\n",
       "        vertical-align: top;\n",
       "    }\n",
       "\n",
       "    .dataframe thead th {\n",
       "        text-align: right;\n",
       "    }\n",
       "</style>\n",
       "<table border=\"1\" class=\"dataframe\">\n",
       "  <thead>\n",
       "    <tr style=\"text-align: right;\">\n",
       "      <th></th>\n",
       "      <th>Year</th>\n",
       "      <th>Month</th>\n",
       "      <th>DayofMonth</th>\n",
       "      <th>DayOfWeek</th>\n",
       "      <th>Carrier</th>\n",
       "      <th>OriginAirportID</th>\n",
       "      <th>OriginAirportName</th>\n",
       "      <th>OriginCity</th>\n",
       "      <th>OriginState</th>\n",
       "      <th>DestAirportID</th>\n",
       "      <th>DestAirportName</th>\n",
       "      <th>DestCity</th>\n",
       "      <th>DestState</th>\n",
       "      <th>CRSDepTime</th>\n",
       "      <th>DepDelay</th>\n",
       "      <th>DepDel15</th>\n",
       "      <th>CRSArrTime</th>\n",
       "      <th>ArrDelay</th>\n",
       "      <th>ArrDel15</th>\n",
       "      <th>Cancelled</th>\n",
       "    </tr>\n",
       "  </thead>\n",
       "  <tbody>\n",
       "    <tr>\n",
       "      <th>0</th>\n",
       "      <td>2013</td>\n",
       "      <td>9</td>\n",
       "      <td>16</td>\n",
       "      <td>1</td>\n",
       "      <td>DL</td>\n",
       "      <td>15304</td>\n",
       "      <td>Tampa International</td>\n",
       "      <td>Tampa</td>\n",
       "      <td>FL</td>\n",
       "      <td>12478</td>\n",
       "      <td>John F. Kennedy International</td>\n",
       "      <td>New York</td>\n",
       "      <td>NY</td>\n",
       "      <td>1539</td>\n",
       "      <td>4</td>\n",
       "      <td>0.0</td>\n",
       "      <td>1824</td>\n",
       "      <td>13</td>\n",
       "      <td>0</td>\n",
       "      <td>0</td>\n",
       "    </tr>\n",
       "    <tr>\n",
       "      <th>1</th>\n",
       "      <td>2013</td>\n",
       "      <td>9</td>\n",
       "      <td>23</td>\n",
       "      <td>1</td>\n",
       "      <td>WN</td>\n",
       "      <td>14122</td>\n",
       "      <td>Pittsburgh International</td>\n",
       "      <td>Pittsburgh</td>\n",
       "      <td>PA</td>\n",
       "      <td>13232</td>\n",
       "      <td>Chicago Midway International</td>\n",
       "      <td>Chicago</td>\n",
       "      <td>IL</td>\n",
       "      <td>710</td>\n",
       "      <td>3</td>\n",
       "      <td>0.0</td>\n",
       "      <td>740</td>\n",
       "      <td>22</td>\n",
       "      <td>1</td>\n",
       "      <td>0</td>\n",
       "    </tr>\n",
       "    <tr>\n",
       "      <th>2</th>\n",
       "      <td>2013</td>\n",
       "      <td>9</td>\n",
       "      <td>7</td>\n",
       "      <td>6</td>\n",
       "      <td>AS</td>\n",
       "      <td>14747</td>\n",
       "      <td>Seattle/Tacoma International</td>\n",
       "      <td>Seattle</td>\n",
       "      <td>WA</td>\n",
       "      <td>11278</td>\n",
       "      <td>Ronald Reagan Washington National</td>\n",
       "      <td>Washington</td>\n",
       "      <td>DC</td>\n",
       "      <td>810</td>\n",
       "      <td>-3</td>\n",
       "      <td>0.0</td>\n",
       "      <td>1614</td>\n",
       "      <td>-7</td>\n",
       "      <td>0</td>\n",
       "      <td>0</td>\n",
       "    </tr>\n",
       "    <tr>\n",
       "      <th>3</th>\n",
       "      <td>2013</td>\n",
       "      <td>7</td>\n",
       "      <td>22</td>\n",
       "      <td>1</td>\n",
       "      <td>OO</td>\n",
       "      <td>13930</td>\n",
       "      <td>Chicago O'Hare International</td>\n",
       "      <td>Chicago</td>\n",
       "      <td>IL</td>\n",
       "      <td>11042</td>\n",
       "      <td>Cleveland-Hopkins International</td>\n",
       "      <td>Cleveland</td>\n",
       "      <td>OH</td>\n",
       "      <td>804</td>\n",
       "      <td>35</td>\n",
       "      <td>1.0</td>\n",
       "      <td>1027</td>\n",
       "      <td>33</td>\n",
       "      <td>1</td>\n",
       "      <td>0</td>\n",
       "    </tr>\n",
       "    <tr>\n",
       "      <th>4</th>\n",
       "      <td>2013</td>\n",
       "      <td>5</td>\n",
       "      <td>16</td>\n",
       "      <td>4</td>\n",
       "      <td>DL</td>\n",
       "      <td>13931</td>\n",
       "      <td>Norfolk International</td>\n",
       "      <td>Norfolk</td>\n",
       "      <td>VA</td>\n",
       "      <td>10397</td>\n",
       "      <td>Hartsfield-Jackson Atlanta International</td>\n",
       "      <td>Atlanta</td>\n",
       "      <td>GA</td>\n",
       "      <td>545</td>\n",
       "      <td>-1</td>\n",
       "      <td>0.0</td>\n",
       "      <td>728</td>\n",
       "      <td>-9</td>\n",
       "      <td>0</td>\n",
       "      <td>0</td>\n",
       "    </tr>\n",
       "  </tbody>\n",
       "</table>\n",
       "</div>"
      ],
      "text/plain": [
       "   Year  Month  DayofMonth  DayOfWeek Carrier  OriginAirportID  \\\n",
       "0  2013      9          16          1      DL            15304   \n",
       "1  2013      9          23          1      WN            14122   \n",
       "2  2013      9           7          6      AS            14747   \n",
       "3  2013      7          22          1      OO            13930   \n",
       "4  2013      5          16          4      DL            13931   \n",
       "\n",
       "              OriginAirportName  OriginCity OriginState  DestAirportID  \\\n",
       "0           Tampa International       Tampa          FL          12478   \n",
       "1      Pittsburgh International  Pittsburgh          PA          13232   \n",
       "2  Seattle/Tacoma International     Seattle          WA          11278   \n",
       "3  Chicago O'Hare International     Chicago          IL          11042   \n",
       "4         Norfolk International     Norfolk          VA          10397   \n",
       "\n",
       "                            DestAirportName    DestCity DestState  CRSDepTime  \\\n",
       "0             John F. Kennedy International    New York        NY        1539   \n",
       "1              Chicago Midway International     Chicago        IL         710   \n",
       "2         Ronald Reagan Washington National  Washington        DC         810   \n",
       "3           Cleveland-Hopkins International   Cleveland        OH         804   \n",
       "4  Hartsfield-Jackson Atlanta International     Atlanta        GA         545   \n",
       "\n",
       "   DepDelay  DepDel15  CRSArrTime  ArrDelay  ArrDel15  Cancelled  \n",
       "0         4       0.0        1824        13         0          0  \n",
       "1         3       0.0         740        22         1          0  \n",
       "2        -3       0.0        1614        -7         0          0  \n",
       "3        35       1.0        1027        33         1          0  \n",
       "4        -1       0.0         728        -9         0          0  "
      ]
     },
     "execution_count": 2,
     "metadata": {},
     "output_type": "execute_result"
    }
   ],
   "source": [
    "# Cargar los Datos\n",
    "import pandas as pd\n",
    "import numpy as np\n",
    "import matplotlib.pyplot as plt\n",
    "import seaborn as sns\n",
    "\n",
    "#Cargar archivos y ,ostrar las primeras columnas\n",
    "df_flights = pd.read_csv('flights.csv')\n",
    "df_flights.head()\n"
   ]
  },
  {
   "cell_type": "markdown",
   "metadata": {},
   "source": [
    "The dataset contains observations of US domestic flights in 2013, and consists of the following fields:\n",
    "\n",
    "- **Year**: The year of the flight (all records are from 2013)\n",
    "- **Month**: The month of the flight\n",
    "- **DayofMonth**: The day of the month on which the flight departed\n",
    "- **DayOfWeek**: The day of the week on which the flight departed - from 1 (Monday) to 7 (Sunday)\n",
    "- **Carrier**: The two-letter abbreviation for the airline.\n",
    "- **OriginAirportID**: A unique numeric identifier for the departure aiport\n",
    "- **OriginAirportName**: The full name of the departure airport\n",
    "- **OriginCity**: The departure airport city\n",
    "- **OriginState**: The departure airport state\n",
    "- **DestAirportID**: A unique numeric identifier for the destination aiport\n",
    "- **DestAirportName**: The full name of the destination airport\n",
    "- **DestCity**: The destination airport city\n",
    "- **DestState**: The destination airport state\n",
    "- **CRSDepTime**: The scheduled departure time\n",
    "- **DepDelay**: The number of minutes departure was delayed (flight that left ahead of schedule have a negative value)\n",
    "- **DelDelay15**: A binary indicator that departure was delayed by more than 15 minutes (and therefore considered \"late\")\n",
    "- **CRSArrTime**: The scheduled arrival time\n",
    "- **ArrDelay**: The number of minutes arrival was delayed (flight that arrived ahead of schedule have a negative value)\n",
    "- **ArrDelay15**: A binary indicator that arrival was delayed by more than 15 minutes (and therefore considered \"late\")\n",
    "- **Cancelled**: A binary indicator that the flight was cancelled\n",
    "\n",
    "Your challenge is to explore the flight data to analyze possible factors that affect delays in departure or arrival of a flight.\n",
    "\n",
    "1. Start by cleaning the data.\n",
    "    R - Identify any null or missing data, and impute appropriate replacement values.\n",
    "    R - Identify and eliminate any outliers in the **DepDelay** and **ArrDelay** columns.\n",
    "2. Explore the cleaned data.\n",
    "    R - View summary statistics for the numeric fields in the dataset.\n",
    "    R - Determine the distribution of the **DepDelay** and **ArrDelay** columns.\n",
    "    - Use statistics, aggregate functions, and visualizations to answer the following questions:\n",
    "        R - *What are the average (mean) departure and arrival delays?*\n",
    "        R - *How do the carriers compare in terms of arrival delay performance?*\n",
    "        R - *Is there a noticable difference in arrival delays for different days of the week?*\n",
    "        R - *Which departure airport has the highest average departure delay?*\n",
    "        * - *Do **late** departures tend to result in longer arrival delays than on-time departures?*\n",
    "        * - *Which route (from origin airport to destination airport) has the most **late** arrivals?*\n",
    "        R - *Which route has the highest average arrival delay?*\n",
    "        \n",
    "Add markdown and code cells as required to create your solution.\n"
   ]
  },
  {
   "cell_type": "markdown",
   "metadata": {},
   "source": [
    "# Cleanning the data"
   ]
  },
  {
   "cell_type": "markdown",
   "metadata": {},
   "source": [
    "####     R - Identify any null or missing data, and impute appropriate replacement values.\n",
    "####     R - Identify and eliminate any outliers in the **DepDelay** and **ArrDelay** columns."
   ]
  },
  {
   "cell_type": "code",
   "execution_count": 13,
   "metadata": {},
   "outputs": [
    {
     "name": "stdout",
     "output_type": "stream",
     "text": [
      "Datos nulos por columna:\n",
      "Year                    0\n",
      "Month                   0\n",
      "DayofMonth              0\n",
      "DayOfWeek               0\n",
      "Carrier                 0\n",
      "OriginAirportID         0\n",
      "OriginAirportName       0\n",
      "OriginCity              0\n",
      "OriginState             0\n",
      "DestAirportID           0\n",
      "DestAirportName         0\n",
      "DestCity                0\n",
      "DestState               0\n",
      "CRSDepTime              0\n",
      "DepDelay                0\n",
      "DepDel15             2761\n",
      "CRSArrTime              0\n",
      "ArrDelay                0\n",
      "ArrDel15                0\n",
      "Cancelled               0\n",
      "dtype: int64\n"
     ]
    }
   ],
   "source": [
    "# Identificar datos nulos\n",
    "null_data = df_flights.isnull().sum()\n",
    "print(\"Datos nulos por columna:\")\n",
    "print(null_data)\n",
    "\n",
    "# Reemplazar valores nulos en columnas numéricas con la media\n",
    "df_flights_clean = df_flights.fillna(df_flights.mean(numeric_only=True))\n",
    "\n",
    "# Reemplazar valores nulos en columnas categóricas con 'Unknown'\n",
    "categorical_cols = df_flights_clean.select_dtypes(include=['object']).columns\n",
    "df_flights_clean[categorical_cols] = df_flights_clean[categorical_cols].fillna('Unknown')"
   ]
  },
  {
   "cell_type": "code",
   "execution_count": 14,
   "metadata": {},
   "outputs": [
    {
     "name": "stdout",
     "output_type": "stream",
     "text": [
      "\n",
      "Datos nulos después de la limpieza:\n",
      " Year                 0\n",
      "Month                0\n",
      "DayofMonth           0\n",
      "DayOfWeek            0\n",
      "Carrier              0\n",
      "OriginAirportID      0\n",
      "OriginAirportName    0\n",
      "OriginCity           0\n",
      "OriginState          0\n",
      "DestAirportID        0\n",
      "DestAirportName      0\n",
      "DestCity             0\n",
      "DestState            0\n",
      "CRSDepTime           0\n",
      "DepDelay             0\n",
      "DepDel15             0\n",
      "CRSArrTime           0\n",
      "ArrDelay             0\n",
      "ArrDel15             0\n",
      "Cancelled            0\n",
      "dtype: int64\n"
     ]
    }
   ],
   "source": [
    "# Verificar que los valores nulos han sido reemplazados\n",
    "null_data_clean = df_flights_clean.isnull().sum()\n",
    "print(\"\\nDatos nulos después de la limpieza:\\n\", null_data_clean)"
   ]
  },
  {
   "cell_type": "code",
   "execution_count": 11,
   "metadata": {},
   "outputs": [
    {
     "name": "stdout",
     "output_type": "stream",
     "text": [
      "\n",
      "Datos después de eliminar outliers:\n",
      "    Year  Month  DayofMonth  DayOfWeek Carrier  OriginAirportID  \\\n",
      "0  2013      9          16          1      DL            15304   \n",
      "1  2013      9          23          1      WN            14122   \n",
      "2  2013      9           7          6      AS            14747   \n",
      "4  2013      5          16          4      DL            13931   \n",
      "6  2013     10           6          7      WN            13796   \n",
      "\n",
      "                    OriginAirportName  OriginCity OriginState  DestAirportID  \\\n",
      "0                 Tampa International       Tampa          FL          12478   \n",
      "1            Pittsburgh International  Pittsburgh          PA          13232   \n",
      "2        Seattle/Tacoma International     Seattle          WA          11278   \n",
      "4               Norfolk International     Norfolk          VA          10397   \n",
      "6  Metropolitan Oakland International     Oakland          CA          12191   \n",
      "\n",
      "                            DestAirportName    DestCity DestState  CRSDepTime  \\\n",
      "0             John F. Kennedy International    New York        NY        1539   \n",
      "1              Chicago Midway International     Chicago        IL         710   \n",
      "2         Ronald Reagan Washington National  Washington        DC         810   \n",
      "4  Hartsfield-Jackson Atlanta International     Atlanta        GA         545   \n",
      "6                           William P Hobby     Houston        TX         630   \n",
      "\n",
      "   DepDelay  DepDel15  CRSArrTime  ArrDelay  ArrDel15  Cancelled  \n",
      "0         4       0.0        1824        13         0          0  \n",
      "1         3       0.0         740        22         1          0  \n",
      "2        -3       0.0        1614        -7         0          0  \n",
      "4        -1       0.0         728        -9         0          0  \n",
      "6        -1       0.0        1210        -3         0          0  \n"
     ]
    }
   ],
   "source": [
    "#Función para eliminar outliers\n",
    "def remove_outliers(df, column):\n",
    "    Q1 = df[column].quantile(0.25)\n",
    "    Q3 = df[column].quantile(0.75)\n",
    "    IQR = Q3 - Q1\n",
    "    lower_bound = Q1 - 1.5 * IQR\n",
    "    upper_bound = Q3 + 1.5 * IQR\n",
    "    return df[(df[column] >= lower_bound) & (df[column] <= upper_bound)]\n",
    "\n",
    "# Eliminar outliers en DepDelay y ArrDelay\n",
    "df_flights_clean = remove_outliers(df_flights_clean, 'DepDelay')\n",
    "df_flights_clean = remove_outliers(df_flights_clean, 'ArrDelay')\n",
    "\n",
    "# Mostrar datos acrualizados\n",
    "print(\"\\nDatos después de eliminar outliers:\\n\", df_flights_clean.head())"
   ]
  },
  {
   "cell_type": "markdown",
   "metadata": {},
   "source": [
    "# Explore the cleaned data."
   ]
  },
  {
   "cell_type": "markdown",
   "metadata": {},
   "source": [
    "#### R - View summary statistics for the numeric fields in the dataset."
   ]
  },
  {
   "cell_type": "code",
   "execution_count": 15,
   "metadata": {},
   "outputs": [
    {
     "name": "stdout",
     "output_type": "stream",
     "text": [
      "Resumen estadístico:\n",
      "           Year          Month     DayofMonth      DayOfWeek  OriginAirportID  \\\n",
      "count  271940.0  271940.000000  271940.000000  271940.000000    271940.000000   \n",
      "mean     2013.0       6.978514      15.814775       3.899316     12744.899584   \n",
      "std         0.0       1.982431       8.799033       1.987219      1501.199773   \n",
      "min      2013.0       4.000000       1.000000       1.000000     10140.000000   \n",
      "25%      2013.0       5.000000       8.000000       2.000000     11292.000000   \n",
      "50%      2013.0       7.000000      16.000000       4.000000     12892.000000   \n",
      "75%      2013.0       9.000000      23.000000       6.000000     14057.000000   \n",
      "max      2013.0      10.000000      31.000000       7.000000     15376.000000   \n",
      "\n",
      "       DestAirportID     CRSDepTime       DepDelay       DepDel15  \\\n",
      "count  271940.000000  271940.000000  271940.000000  271940.000000   \n",
      "mean    12739.136493    1325.498713      10.350449       0.201134   \n",
      "std      1502.569949     470.748546      35.673710       0.398809   \n",
      "min     10140.000000       1.000000     -63.000000       0.000000   \n",
      "25%     11292.000000     920.000000      -4.000000       0.000000   \n",
      "50%     12892.000000    1320.000000      -1.000000       0.000000   \n",
      "75%     14057.000000    1725.000000       9.000000       0.000000   \n",
      "max     15376.000000    2359.000000    1425.000000       1.000000   \n",
      "\n",
      "          CRSArrTime       ArrDelay       ArrDel15      Cancelled  \n",
      "count  271940.000000  271940.000000  271940.000000  271940.000000  \n",
      "mean     1505.477819       6.496650       0.215930       0.010723  \n",
      "std       493.204020      38.230331       0.411467       0.102995  \n",
      "min         1.000000     -75.000000       0.000000       0.000000  \n",
      "25%      1119.000000     -11.000000       0.000000       0.000000  \n",
      "50%      1529.000000      -3.000000       0.000000       0.000000  \n",
      "75%      1918.000000      10.000000       0.000000       0.000000  \n",
      "max      2359.000000    1440.000000       1.000000       1.000000  \n"
     ]
    }
   ],
   "source": [
    "# Estadísticas descriptivas\n",
    "print(\"Resumen estadístico:\")\n",
    "print(df_flights_clean.describe())\n",
    "\n"
   ]
  },
  {
   "cell_type": "markdown",
   "metadata": {},
   "source": [
    "#### R - Determine the distribution of the **DepDelay** and **ArrDelay** columns."
   ]
  },
  {
   "cell_type": "code",
   "execution_count": 19,
   "metadata": {},
   "outputs": [
    {
     "data": {
      "image/png": "[encoded data removed]",
      "text/plain": [
       "<Figure size 1000x500 with 1 Axes>"
      ]
     },
     "metadata": {},
     "output_type": "display_data"
    },
    {
     "data": {
      "image/png": "[encoded data removed]",
      "text/plain": [
       "<Figure size 1000x500 with 1 Axes>"
      ]
     },
     "metadata": {},
     "output_type": "display_data"
    }
   ],
   "source": [
    "\n",
    "# Distribución de DepDelay\n",
    "plt.figure(figsize=(10, 5))\n",
    "sns.histplot(df_flights['DepDelay'], bins=50, kde=True, color='red')\n",
    "plt.title('Distribución de DepDelay')\n",
    "plt.show()\n",
    "\n",
    "# Distribución de ArrDelay\n",
    "plt.figure(figsize=(10, 5))\n",
    "sns.histplot(df_flights['ArrDelay'], bins=50, kde=True, color='purple')\n",
    "plt.title('Distribución de ArrDelay')\n",
    "plt.show()\n"
   ]
  },
  {
   "cell_type": "markdown",
   "metadata": {},
   "source": [
    "## Answering the questions"
   ]
  },
  {
   "cell_type": "markdown",
   "metadata": {},
   "source": [
    "#### R - *What are the average (mean) departure and arrival delays?*"
   ]
  },
  {
   "cell_type": "code",
   "execution_count": 85,
   "metadata": {},
   "outputs": [
    {
     "name": "stdout",
     "output_type": "stream",
     "text": [
      "Retraso promedio en salida: 0.22 minutos\n",
      "Retraso promedio en llegada: -4.51 minutos\n"
     ]
    }
   ],
   "source": [
    "# Calcular retrasos promedio\n",
    "mean_dep_delay = df_flights_clean['DepDelay'].mean()\n",
    "mean_arr_delay = df_flights_clean['ArrDelay'].mean()\n",
    "\n",
    "print(f\"Retraso promedio en salida: {mean_dep_delay:.2f} minutos\")\n",
    "print(f\"Retraso promedio en llegada: {mean_arr_delay:.2f} minutos\")\n",
    "\n"
   ]
  },
  {
   "cell_type": "markdown",
   "metadata": {},
   "source": [
    "#### R - *How do the carriers compare in terms of arrival delay performance?*"
   ]
  },
  {
   "cell_type": "code",
   "execution_count": 20,
   "metadata": {},
   "outputs": [
    {
     "data": {
      "image/png": "[encoded data removed]",
      "text/plain": [
       "<Figure size 1000x600 with 1 Axes>"
      ]
     },
     "metadata": {},
     "output_type": "display_data"
    }
   ],
   "source": [
    "# Filtrar solo retrasos positivos\n",
    "df_flights_positive = df_flights_clean[df_flights_clean['ArrDelay'] > 0]\n",
    "\n",
    "# Comparar retraso promedio por aerolínea \n",
    "carrier_delay = df_flights_positive.groupby('Carrier')['ArrDelay'].mean().sort_values()\n",
    "\n",
    "# Visualización del retraso por aerolínea \n",
    "plt.figure(figsize=(10, 6))\n",
    "carrier_delay.plot(kind='bar', color='blue')\n",
    "plt.title('Retraso promedio por aerolínea (ArrDelay)')\n",
    "plt.ylabel('Retraso promedio en minutos')\n",
    "plt.xlabel('Aerolínea')\n",
    "plt.xticks(rotation=45)\n",
    "plt.show()\n"
   ]
  },
  {
   "cell_type": "markdown",
   "metadata": {},
   "source": [
    "#### R - *Is there a noticable difference in arrival delays for different days of the week?*"
   ]
  },
  {
   "cell_type": "code",
   "execution_count": 21,
   "metadata": {},
   "outputs": [
    {
     "data": {
      "image/png": "[encoded data removed]",
      "text/plain": [
       "<Figure size 1000x600 with 1 Axes>"
      ]
     },
     "metadata": {},
     "output_type": "display_data"
    }
   ],
   "source": [
    "# Comparar retraso promedio por día de la semana \n",
    "day_of_week_delay = df_flights_positive.groupby('DayOfWeek')['ArrDelay'].mean()\n",
    "\n",
    "# Visualización del retraso por día de la semana \n",
    "plt.figure(figsize=(10, 6))\n",
    "day_of_week_delay.plot(kind='bar', color='green')\n",
    "plt.title('Retraso promedio por día de la semana (ArrDelay)')\n",
    "plt.xlabel('Día de la semana (1=Lunes, 7=Domingo)')\n",
    "plt.ylabel('Retraso promedio en minutos')\n",
    "plt.xticks(rotation=0)\n",
    "plt.show()\n"
   ]
  },
  {
   "cell_type": "markdown",
   "metadata": {},
   "source": [
    "####         R - *Which departure airport has the highest average departure delay?*"
   ]
  },
  {
   "cell_type": "code",
   "execution_count": 88,
   "metadata": {},
   "outputs": [
    {
     "name": "stdout",
     "output_type": "stream",
     "text": [
      "Aeropuerto con mayor retraso promedio en salida: Chicago Midway International (4.77 minutos)\n"
     ]
    }
   ],
   "source": [
    "# Identificar el aeropuerto con mayor retraso en salida\n",
    "max_dep_delay_airport = df_flights_clean.groupby('OriginAirportName')['DepDelay'].mean().idxmax()\n",
    "max_dep_delay_value = df_flights_clean.groupby('OriginAirportName')['DepDelay'].mean().max()\n",
    "\n",
    "print(f\"Aeropuerto con mayor retraso promedio en salida: {max_dep_delay_airport} ({max_dep_delay_value:.2f} minutos)\")\n",
    "\n"
   ]
  },
  {
   "cell_type": "markdown",
   "metadata": {},
   "source": [
    "#### * - *Do **late** departures tend to result in longer arrival delays than on-time departures?*"
   ]
  },
  {
   "cell_type": "code",
   "execution_count": 89,
   "metadata": {},
   "outputs": [
    {
     "name": "stdout",
     "output_type": "stream",
     "text": [
      "Retraso promedio de llegada con salidas tardías: 3.30 minutos\n",
      "Retraso promedio de llegada con salidas a tiempo: -8.14 minutos\n"
     ]
    }
   ],
   "source": [
    "# Comparar retrasos de llegada entre vuelos con salida a tiempo y retrasados\n",
    "late_departures = df_flights_clean[df_flights_clean['DepDelay'] > 0]\n",
    "on_time_departures = df_flights_clean[df_flights_clean['DepDelay'] <= 0]\n",
    "\n",
    "avg_late_arrival_delay = late_departures['ArrDelay'].mean()\n",
    "avg_on_time_arrival_delay = on_time_departures['ArrDelay'].mean()\n",
    "\n",
    "print(f\"Retraso promedio de llegada con salidas tardías: {avg_late_arrival_delay:.2f} minutos\")\n",
    "print(f\"Retraso promedio de llegada con salidas a tiempo: {avg_on_time_arrival_delay:.2f} minutos\")\n",
    "\n"
   ]
  },
  {
   "cell_type": "markdown",
   "metadata": {},
   "source": [
    "#### * - *Which route (from origin airport to destination airport) has the most **late** arrivals?*"
   ]
  },
  {
   "cell_type": "code",
   "execution_count": 90,
   "metadata": {},
   "outputs": [
    {
     "name": "stdout",
     "output_type": "stream",
     "text": [
      "La ruta con más llegadas tarde es: San Francisco -> Los Angeles con 269 llegadas tarde\n"
     ]
    }
   ],
   "source": [
    "# Identificar la ruta con más llegadas tarde\n",
    "df_flights_clean['Route'] = df_flights_clean['OriginCity'] + \" -> \" + df_flights_clean['DestCity']\n",
    "late_arrivals = df_flights_clean[df_flights_clean['ArrDelay'] > 0]\n",
    "\n",
    "most_late_route = late_arrivals['Route'].value_counts().idxmax()\n",
    "late_route_count = late_arrivals['Route'].value_counts().max()\n",
    "\n",
    "print(f\"La ruta con más llegadas tarde es: {most_late_route} con {late_route_count} llegadas tarde\")\n",
    "\n"
   ]
  },
  {
   "cell_type": "markdown",
   "metadata": {},
   "source": [
    "#### R - *Which route has the highest average arrival delay?*"
   ]
  },
  {
   "cell_type": "code",
   "execution_count": 91,
   "metadata": {},
   "outputs": [
    {
     "name": "stdout",
     "output_type": "stream",
     "text": [
      "La ruta con mayor retraso promedio de llegada es: Cleveland -> West Palm Beach/Palm Beach con un retraso promedio de 18.00 minutos\n"
     ]
    }
   ],
   "source": [
    "# Ruta con mayor retraso promedio de llegada\n",
    "max_avg_delay_route = df_flights_clean.groupby('Route')['ArrDelay'].mean().idxmax()\n",
    "max_avg_delay_value = df_flights_clean.groupby('Route')['ArrDelay'].mean().max()\n",
    "\n",
    "print(f\"La ruta con mayor retraso promedio de llegada es: {max_avg_delay_route} con un retraso promedio de {max_avg_delay_value:.2f} minutos\")\n"
   ]
  }
 ],
 "metadata": {
  "kernelspec": {
   "display_name": "Python 3 (ipykernel)",
   "language": "python",
   "name": "python3"
  },
  "language_info": {
   "codemirror_mode": {
    "name": "ipython",
    "version": 3
   },
   "file_extension": ".py",
   "mimetype": "text/x-python",
   "name": "python",
   "nbconvert_exporter": "python",
   "pygments_lexer": "ipython3",
   "version": "3.12.1"
  }
 },
 "nbformat": 4,
 "nbformat_minor": 4
}
