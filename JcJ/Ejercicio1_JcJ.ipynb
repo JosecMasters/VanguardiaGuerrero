{
 "cells": [
  {
   "cell_type": "markdown",
   "metadata": {},
   "source": [
    "# Ejercicio 1"
   ]
  },
  {
   "cell_type": "code",
   "execution_count": 2,
   "metadata": {},
   "outputs": [],
   "source": [
    "from sklearn.datasets import fetch_openml\n",
    "import pandas as pd\n"
   ]
  },
  {
   "cell_type": "code",
   "execution_count": 15,
   "metadata": {},
   "outputs": [],
   "source": [
    "# Buscar conjuntos de datos en OpenML\n",
    "zoo_dataset = fetch_openml(name='zoo', version=1)"
   ]
  },
  {
   "cell_type": "code",
   "execution_count": 16,
   "metadata": {},
   "outputs": [
    {
     "name": "stdout",
     "output_type": "stream",
     "text": [
      "Número de muestras: 101\n",
      "Número de características: 16\n",
      "    hair feathers   eggs   milk airborne aquatic predator toothed backbone  \\\n",
      "0   true    false  false   true    false   false     true    true     true   \n",
      "1   true    false  false   true    false   false    false    true     true   \n",
      "2  false    false   true  false    false    true     true    true     true   \n",
      "3   true    false  false   true    false   false     true    true     true   \n",
      "4   true    false  false   true    false   false     true    true     true   \n",
      "\n",
      "  breathes venomous   fins  legs   tail domestic catsize  \n",
      "0     true    false  false     4  false    false    true  \n",
      "1     true    false  false     4   true    false    true  \n",
      "2    false    false   true     0   true    false   false  \n",
      "3     true    false  false     4  false    false    true  \n",
      "4     true    false  false     4   true    false    true  \n"
     ]
    }
   ],
   "source": [
    "# Números de muestras y características\n",
    "print(f\"Número de muestras: {zoo_dataset.data.shape[0]}\")\n",
    "print(f\"Número de características: {zoo_dataset.data.shape[1]}\")\n",
    "\n",
    "# Mostrar las primeras filas del dataset\n",
    "zoo_df = pd.DataFrame(data=zoo_dataset.data, columns=zoo_dataset.feature_names)\n",
    "print(zoo_df.head())"
   ]
  },
  {
   "cell_type": "code",
   "execution_count": 17,
   "metadata": {},
   "outputs": [
    {
     "name": "stdout",
     "output_type": "stream",
     "text": [
      "hair        category\n",
      "feathers    category\n",
      "eggs        category\n",
      "milk        category\n",
      "airborne    category\n",
      "aquatic     category\n",
      "predator    category\n",
      "toothed     category\n",
      "backbone    category\n",
      "breathes    category\n",
      "venomous    category\n",
      "fins        category\n",
      "legs           int64\n",
      "tail        category\n",
      "domestic    category\n",
      "catsize     category\n",
      "dtype: object\n"
     ]
    }
   ],
   "source": [
    "# Tipos de variables\n",
    "print(zoo_df.dtypes)"
   ]
  },
  {
   "cell_type": "markdown",
   "metadata": {},
   "source": [
    "### Resumen de algunas variables:\n",
    "- **hair**: Binaria (0: No tiene, 1: Tiene pelo).\n",
    "- **feathers**: Binaria (0: No tiene, 1: Tiene plumas).\n",
    "- **aquatic**: Binaria (0: No es acuático, 1: Es acuático).\n",
    "- **predator**: Binaria (0: No es depredador, 1: Es depredador).\n",
    "- **legs**: Numérica (Número de patas del animal)."
   ]
  }
 ],
 "metadata": {
  "kernelspec": {
   "display_name": "Python 3",
   "language": "python",
   "name": "python3"
  },
  "language_info": {
   "codemirror_mode": {
    "name": "ipython",
    "version": 3
   },
   "file_extension": ".py",
   "mimetype": "text/x-python",
   "name": "python",
   "nbconvert_exporter": "python",
   "pygments_lexer": "ipython3",
   "version": "3.12.1"
  }
 },
 "nbformat": 4,
 "nbformat_minor": 2
}
